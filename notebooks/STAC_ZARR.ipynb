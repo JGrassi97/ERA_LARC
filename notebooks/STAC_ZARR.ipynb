{
 "cells": [
  {
   "cell_type": "markdown",
   "metadata": {},
   "source": [
    "# Building a STAC Catalogue in Zarr\n",
    "his notebook demonstrates how to build a STAC catalogue using the Zarr format. Zarr is an efficient, scalable format for the storage of chunked, compressed, N-dimensional arrays. This notebook will guide you through the steps to create, manipulate, and visualize a STAC catalogue in Zarr."
   ]
  },
  {
   "cell_type": "code",
   "execution_count": 8,
   "metadata": {},
   "outputs": [],
   "source": [
    "import earthkit.data"
   ]
  },
  {
   "cell_type": "markdown",
   "metadata": {},
   "source": [
    "## STAC catalogue\n",
    "In this section we will explore how to build a STAC catalogue, and which are its main features"
   ]
  },
  {
   "cell_type": "code",
   "execution_count": 9,
   "metadata": {},
   "outputs": [],
   "source": [
    "import pystac\n",
    "import pandas as pd\n",
    "\n",
    "from datetime import datetime\n",
    "from tempfile import TemporaryDirectory"
   ]
  },
  {
   "cell_type": "code",
   "execution_count": 10,
   "metadata": {},
   "outputs": [],
   "source": [
    "# List of dates from 2004-01-01 to 2004-01-31 (use pandas to generate this)\n",
    "dates = pd.date_range(start='2004-01-01', end='2014-12-31', freq='D').strftime('%Y-%m-%d').tolist()"
   ]
  },
  {
   "cell_type": "code",
   "execution_count": null,
   "metadata": {},
   "outputs": [],
   "source": [
    "# Set temporary directory to store source data\n",
    "tmp_dir = TemporaryDirectory()\n",
    "\n",
    "ds = earthkit.data.from_source(\"cds\",\n",
    "                                    f\"reanalysis-era5-single-levels\",\n",
    "                                    variable=[\"2m_temperature\"],\n",
    "                                    product_type=\"reanalysis\",\n",
    "                                    area=[46, 6, 44, 8], \n",
    "                                    grid=[0.25, 0.25],\n",
    "                                    date=dates,\n",
    "                                    time=[\"00:00\", \"03:00\", \"06:00\",\"09:00\", \"12:00\", \"15:00\",\"18:00\", \"21:00\"]\n",
    "                                )"
   ]
  },
  {
   "cell_type": "code",
   "execution_count": 5,
   "metadata": {},
   "outputs": [],
   "source": [
    "catalog = pystac.Catalog(id='tutorial-catalog', description='This catalog is a basic demonstration catalog utilizing a file from CDS ERA5 on single levels.')\n",
    "\n",
    "collection = pystac.Collection(\n",
    "    id=\"era5-temperature-zarr\",\n",
    "    description=\"ERA5 reanalysis temperature data in Zarr format\",\n",
    "    extent=pystac.Extent(\n",
    "        spatial=pystac.SpatialExtent([[-180.0, -90.0, 180.0, 90.0]]),\n",
    "        temporal=pystac.TemporalExtent([[datetime(2020, 1, 1), datetime(2020, 12, 31)]])\n",
    "    ),\n",
    "    license=\"CC-BY-4.0\"\n",
    ")"
   ]
  },
  {
   "cell_type": "code",
   "execution_count": null,
   "metadata": {},
   "outputs": [],
   "source": [
    "# Get all the coordinates latitude/longitude in the ds.to_xarray()\n",
    "latitudes = ds.to_xarray().latitude.values\n",
    "longitudes = ds.to_xarray().longitude.values\n",
    "\n",
    "\n",
    "import os\n",
    "import pystac\n",
    "from datetime import datetime, timezone\n",
    "import numpy as np\n",
    "\n",
    "import os\n",
    "import pystac\n",
    "from datetime import datetime, timezone\n",
    "import numpy as np\n",
    "\n",
    "# Itera su latitudine e longitudine\n",
    "for lat in latitudes:\n",
    "    for lon in longitudes:\n",
    "\n",
    "        tmp_path = os.path.join(tmp_dir.name, f'example_{lat}_{lon}.zarr')\n",
    "        # Rechunck and store data\n",
    "        ds.to_xarray().sel(latitude=lat, longitude=lon, method='nearest').chunk(chunks={'time': -1}).to_zarr(tmp_path)\n",
    "\n",
    "        # Converte lat e lon in float per garantire la serializzazione JSON\n",
    "        lat = float(lat)\n",
    "        lon = float(lon)\n",
    "\n",
    "        \n",
    "\n",
    "        # Crea un nuovo item STAC\n",
    "        item = pystac.Item(\n",
    "            id=f'era5-prova-{lat}-{lon}',  # Usa lat e lon nel nome per un ID univoco\n",
    "            geometry={\n",
    "                \"type\": \"Point\",\n",
    "                \"coordinates\": [lon, lat]  # Assicurati che siano float\n",
    "            },\n",
    "            bbox=[float(lon), float(lat), float(lon), float(lat)],  # Converti anche il bbox\n",
    "            datetime=datetime.now(timezone.utc),\n",
    "            properties={}\n",
    "        )\n",
    "        \n",
    "        # Aggiunge l'asset e tutte le informazioni all'item\n",
    "        item.add_asset(\n",
    "            key='data',\n",
    "            asset=pystac.Asset(\n",
    "                href=tmp_path,\n",
    "                media_type=\"application/vnd+zarr\",\n",
    "                roles=[\"data\"]\n",
    "            )\n",
    "        )\n",
    "\n",
    "        # Aggiunge l'item alla collection\n",
    "        collection.add_item(item)\n",
    "\n",
    "# Aggiunge la collection al catalogo\n",
    "catalog.add_child(collection)\n",
    "\n",
    "# Salva il catalogo STAC in locale\n",
    "catalog.normalize_and_save(\"era5_zarr_catalog\", catalog_type=pystac.CatalogType.SELF_CONTAINED)"
   ]
  },
  {
   "cell_type": "code",
   "execution_count": 7,
   "metadata": {},
   "outputs": [],
   "source": [
    "catalog = pystac.Catalog.from_file('era5_zarr_catalog/catalog.json')"
   ]
  },
  {
   "cell_type": "code",
   "execution_count": null,
   "metadata": {},
   "outputs": [],
   "source": [
    "from rtree import index\n",
    "from shapely.geometry import shape, Point\n",
    "from shapely.ops import nearest_points\n",
    "\n",
    "# Crea un indice spaziale\n",
    "spatial_index = index.Index()\n",
    "\n",
    "# Popola l'indice con gli item del catalogo\n",
    "item_map = {}\n",
    "for idx, item in enumerate(catalog.get_all_items()):\n",
    "    if item.geometry:\n",
    "        item_geometry = shape(item.geometry)\n",
    "        spatial_index.insert(idx, item_geometry.bounds)\n",
    "        item_map[idx] = item\n",
    "\n",
    "# Definisci il punto griglia\n",
    "latitude = 42\n",
    "longitude = 9\n",
    "point_of_interest = Point(longitude, latitude)\n",
    "\n",
    "# Cerca gli item che intersecano il punto\n",
    "matching_indices = list(spatial_index.intersection((longitude, latitude, longitude, latitude)))\n",
    "\n",
    "# Se non troviamo nessun item corrispondente, cerchiamo il più vicino\n",
    "if matching_indices:\n",
    "    # Otteniamo gli item corrispondenti\n",
    "    matching_items = [item_map[idx] for idx in matching_indices]\n",
    "else:\n",
    "    # Se non ci sono corrispondenze esatte, calcoliamo l'item più vicino\n",
    "    min_distance = float('inf')\n",
    "    closest_item = None\n",
    "\n",
    "    # Iteriamo su tutti gli item per trovare quello più vicino\n",
    "    for idx, item in item_map.items():\n",
    "        item_geometry = shape(item.geometry)\n",
    "        # Trova i punti più vicini tra il punto griglia e l'item corrente\n",
    "        nearest = nearest_points(item_geometry, point_of_interest)\n",
    "        distance = point_of_interest.distance(nearest[0])\n",
    "\n",
    "        # Aggiorna l'item più vicino\n",
    "        if distance < min_distance:\n",
    "            min_distance = distance\n",
    "            closest_item = item\n",
    "\n",
    "    # Aggiungi l'item più vicino alla lista dei matching items\n",
    "    matching_items = [closest_item]\n",
    "\n",
    "# Visualizza l'Item trovato (o il più vicino)\n",
    "for item in matching_items:\n",
    "    print(item)\n",
    "    print(f\"Coordinates: {item.geometry['coordinates']}\")\n",
    "    print(f\"Item ID: {item.id}\")\n",
    "    print(f\"Assets: {item.assets}\")\n"
   ]
  },
  {
   "cell_type": "code",
   "execution_count": null,
   "metadata": {},
   "outputs": [],
   "source": [
    "import xarray as xr\n",
    "# Ottieni il link all'asset Zarr dall'item\n",
    "zarr_asset_href = item.assets['data'].href  # Assumiamo che l'asset si chiami 'data'\n",
    "\n",
    "# Carica i dati in xarray\n",
    "ds = xr.open_zarr(zarr_asset_href)\n",
    "\n",
    "# Visualizza le informazioni del dataset\n",
    "ds.mean(['number','step','surface']).t2m.plot()"
   ]
  },
  {
   "cell_type": "code",
   "execution_count": 11,
   "metadata": {},
   "outputs": [],
   "source": [
    "tmp_dir.cleanup()"
   ]
  }
 ],
 "metadata": {
  "kernelspec": {
   "display_name": "climai",
   "language": "python",
   "name": "python3"
  },
  "language_info": {
   "codemirror_mode": {
    "name": "ipython",
    "version": 3
   },
   "file_extension": ".py",
   "mimetype": "text/x-python",
   "name": "python",
   "nbconvert_exporter": "python",
   "pygments_lexer": "ipython3",
   "version": "3.11.8"
  }
 },
 "nbformat": 4,
 "nbformat_minor": 2
}
