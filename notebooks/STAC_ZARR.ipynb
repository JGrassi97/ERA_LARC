{
 "cells": [
  {
   "cell_type": "markdown",
   "metadata": {},
   "source": [
    "# Building a STAC Catalogue in Zarr\n",
    "his notebook demonstrates how to build a STAC catalogue using the Zarr format. Zarr is an efficient, scalable format for the storage of chunked, compressed, N-dimensional arrays. This notebook will guide you through the steps to create, manipulate, and visualize a STAC catalogue in Zarr."
   ]
  },
  {
   "cell_type": "code",
   "execution_count": null,
   "metadata": {},
   "outputs": [],
   "source": [
    "import earthkit.data"
   ]
  },
  {
   "cell_type": "markdown",
   "metadata": {},
   "source": [
    "## STAC catalogue\n",
    "In this section we will explore how to build a STAC catalogue, and which are its main features"
   ]
  },
  {
   "cell_type": "code",
   "execution_count": 5,
   "metadata": {},
   "outputs": [],
   "source": [
    "import pystac\n",
    "import pandas as pd\n",
    "\n",
    "from datetime import datetime\n",
    "from tempfile import TemporaryDirectory"
   ]
  },
  {
   "cell_type": "code",
   "execution_count": 6,
   "metadata": {},
   "outputs": [],
   "source": [
    "# List of dates from 2004-01-01 to 2004-01-31 (use pandas to generate this)\n",
    "dates = pd.date_range(start='2004-01-01', end='2004-12-31', freq='D').strftime('%Y-%m-%d').tolist()"
   ]
  },
  {
   "cell_type": "code",
   "execution_count": 8,
   "metadata": {},
   "outputs": [
    {
     "name": "stderr",
     "output_type": "stream",
     "text": [
      "2024-11-12 18:20:51,394 WARNING [2024-10-10T00:00:00] The final validated ERA5 differs from ERA5T from July 2024 until further notice - please refer to our\n",
      "[Forum announcement](https://forum.ecmwf.int/t/final-validated-era5-product-to-differ-from-era5t-in-july-2024/6685)\n",
      "for details and watch it for further updates on this.\n",
      "2024-11-12 18:20:51,396 WARNING [2024-11-12T17:20:51.368818] You are using a deprecated API endpoint. If you are using cdsapi, please upgrade to the latest version.\n",
      "2024-11-12 18:20:51,397 INFO Request ID is 24539753-59cb-404c-8f04-526364e81cd7\n",
      "2024-11-12 18:20:51,496 INFO status has been updated to accepted\n",
      "2024-11-12 18:20:55,307 INFO status has been updated to running\n",
      "2024-11-12 18:23:42,305 INFO status has been updated to successful\n"
     ]
    },
    {
     "data": {
      "application/vnd.jupyter.widget-view+json": {
       "model_id": "1ebda194bdc04fc28963553a0b86ac6a",
       "version_major": 2,
       "version_minor": 0
      },
      "text/plain": [
       "661c8dca879809d5e6155652d228649.grib:   0%|          | 0.00/386k [00:00<?, ?B/s]"
      ]
     },
     "metadata": {},
     "output_type": "display_data"
    },
    {
     "name": "stderr",
     "output_type": "stream",
     "text": [
      "/home/jgrassi/miniconda3/lib/python3.11/site-packages/gribapi/__init__.py:23: UserWarning: ecCodes 2.31.0 or higher is recommended. You are running version 2.24.2\n",
      "  warnings.warn(\n"
     ]
    }
   ],
   "source": [
    "# Set temporary directory to store source data\n",
    "tmp_dir = TemporaryDirectory()\n",
    "\n",
    "ds = earthkit.data.from_source(\"cds\",\n",
    "                                    f\"reanalysis-era5-single-levels\",\n",
    "                                    variable=[\"2m_temperature\"],\n",
    "                                    product_type=\"reanalysis\",\n",
    "                                    area=[46, 6, 44, 8], \n",
    "                                    grid=[0.25, 0.25],\n",
    "                                    date=dates,\n",
    "                                    time=[\"00:00\", \"06:00\", \"12:00\", \"18:00\"]\n",
    "                                )"
   ]
  },
  {
   "cell_type": "code",
   "execution_count": 9,
   "metadata": {},
   "outputs": [],
   "source": [
    "catalog = pystac.Catalog(id='tutorial-catalog', description='This catalog is a basic demonstration catalog utilizing a file from CDS ERA5 on single levels.')\n",
    "\n",
    "collection = pystac.Collection(\n",
    "    id=\"era5-temperature-zarr\",\n",
    "    description=\"ERA5 reanalysis temperature data in Zarr format\",\n",
    "    extent=pystac.Extent(\n",
    "        spatial=pystac.SpatialExtent([[-180.0, -90.0, 180.0, 90.0]]),\n",
    "        temporal=pystac.TemporalExtent([[datetime(2004, 1, 1), datetime(2004, 12, 31)]])\n",
    "    ),\n",
    "    license=\"CC-BY-4.0\"\n",
    ")"
   ]
  },
  {
   "cell_type": "code",
   "execution_count": 10,
   "metadata": {},
   "outputs": [
    {
     "ename": "KeyboardInterrupt",
     "evalue": "",
     "output_type": "error",
     "traceback": [
      "\u001b[0;31m---------------------------------------------------------------------------\u001b[0m",
      "\u001b[0;31mKeyboardInterrupt\u001b[0m                         Traceback (most recent call last)",
      "Cell \u001b[0;32mIn[10], line 22\u001b[0m\n\u001b[1;32m     20\u001b[0m tmp_path \u001b[38;5;241m=\u001b[39m os\u001b[38;5;241m.\u001b[39mpath\u001b[38;5;241m.\u001b[39mjoin(tmp_dir\u001b[38;5;241m.\u001b[39mname, \u001b[38;5;124mf\u001b[39m\u001b[38;5;124m'\u001b[39m\u001b[38;5;124mexample_\u001b[39m\u001b[38;5;132;01m{\u001b[39;00mlat\u001b[38;5;132;01m}\u001b[39;00m\u001b[38;5;124m_\u001b[39m\u001b[38;5;132;01m{\u001b[39;00mlon\u001b[38;5;132;01m}\u001b[39;00m\u001b[38;5;124m.zarr\u001b[39m\u001b[38;5;124m'\u001b[39m)\n\u001b[1;32m     21\u001b[0m \u001b[38;5;66;03m# Rechunck and store data\u001b[39;00m\n\u001b[0;32m---> 22\u001b[0m ds\u001b[38;5;241m.\u001b[39mto_xarray()\u001b[38;5;241m.\u001b[39msel(latitude\u001b[38;5;241m=\u001b[39mlat, longitude\u001b[38;5;241m=\u001b[39mlon, method\u001b[38;5;241m=\u001b[39m\u001b[38;5;124m'\u001b[39m\u001b[38;5;124mnearest\u001b[39m\u001b[38;5;124m'\u001b[39m)\u001b[38;5;241m.\u001b[39mchunk(chunks\u001b[38;5;241m=\u001b[39m{\u001b[38;5;124m'\u001b[39m\u001b[38;5;124mtime\u001b[39m\u001b[38;5;124m'\u001b[39m: \u001b[38;5;241m-\u001b[39m\u001b[38;5;241m1\u001b[39m})\u001b[38;5;241m.\u001b[39mto_zarr(tmp_path)\n\u001b[1;32m     24\u001b[0m \u001b[38;5;66;03m# Converte lat e lon in float per garantire la serializzazione JSON\u001b[39;00m\n\u001b[1;32m     25\u001b[0m lat \u001b[38;5;241m=\u001b[39m \u001b[38;5;28mfloat\u001b[39m(lat)\n",
      "File \u001b[0;32m~/miniconda3/lib/python3.11/site-packages/earthkit/data/readers/grib/xarray.py:143\u001b[0m, in \u001b[0;36mXarrayMixIn.to_xarray\u001b[0;34m(self, **kwargs)\u001b[0m\n\u001b[1;32m    128\u001b[0m default\u001b[38;5;241m.\u001b[39mupdate(\u001b[38;5;28mself\u001b[39m\u001b[38;5;241m.\u001b[39mxarray_open_dataset_kwargs())\n\u001b[1;32m    130\u001b[0m xarray_open_dataset_kwargs\u001b[38;5;241m.\u001b[39mupdate(\n\u001b[1;32m    131\u001b[0m     Kwargs(\n\u001b[1;32m    132\u001b[0m         user\u001b[38;5;241m=\u001b[39muser_xarray_open_dataset_kwargs,\n\u001b[0;32m   (...)\u001b[0m\n\u001b[1;32m    140\u001b[0m     )\n\u001b[1;32m    141\u001b[0m )\n\u001b[0;32m--> 143\u001b[0m result \u001b[38;5;241m=\u001b[39m xr\u001b[38;5;241m.\u001b[39mopen_dataset(\n\u001b[1;32m    144\u001b[0m     IndexWrapperForCfGrib(\u001b[38;5;28mself\u001b[39m, ignore_keys\u001b[38;5;241m=\u001b[39mignore_keys),\n\u001b[1;32m    145\u001b[0m     \u001b[38;5;241m*\u001b[39m\u001b[38;5;241m*\u001b[39mxarray_open_dataset_kwargs,\n\u001b[1;32m    146\u001b[0m )\n\u001b[1;32m    148\u001b[0m \u001b[38;5;28;01mreturn\u001b[39;00m result\n",
      "File \u001b[0;32m~/miniconda3/lib/python3.11/site-packages/xarray/backends/api.py:572\u001b[0m, in \u001b[0;36mopen_dataset\u001b[0;34m(filename_or_obj, engine, chunks, cache, decode_cf, mask_and_scale, decode_times, decode_timedelta, use_cftime, concat_characters, decode_coords, drop_variables, inline_array, chunked_array_type, from_array_kwargs, backend_kwargs, **kwargs)\u001b[0m\n\u001b[1;32m    560\u001b[0m decoders \u001b[38;5;241m=\u001b[39m _resolve_decoders_kwargs(\n\u001b[1;32m    561\u001b[0m     decode_cf,\n\u001b[1;32m    562\u001b[0m     open_backend_dataset_parameters\u001b[38;5;241m=\u001b[39mbackend\u001b[38;5;241m.\u001b[39mopen_dataset_parameters,\n\u001b[0;32m   (...)\u001b[0m\n\u001b[1;32m    568\u001b[0m     decode_coords\u001b[38;5;241m=\u001b[39mdecode_coords,\n\u001b[1;32m    569\u001b[0m )\n\u001b[1;32m    571\u001b[0m overwrite_encoded_chunks \u001b[38;5;241m=\u001b[39m kwargs\u001b[38;5;241m.\u001b[39mpop(\u001b[38;5;124m\"\u001b[39m\u001b[38;5;124moverwrite_encoded_chunks\u001b[39m\u001b[38;5;124m\"\u001b[39m, \u001b[38;5;28;01mNone\u001b[39;00m)\n\u001b[0;32m--> 572\u001b[0m backend_ds \u001b[38;5;241m=\u001b[39m backend\u001b[38;5;241m.\u001b[39mopen_dataset(\n\u001b[1;32m    573\u001b[0m     filename_or_obj,\n\u001b[1;32m    574\u001b[0m     drop_variables\u001b[38;5;241m=\u001b[39mdrop_variables,\n\u001b[1;32m    575\u001b[0m     \u001b[38;5;241m*\u001b[39m\u001b[38;5;241m*\u001b[39mdecoders,\n\u001b[1;32m    576\u001b[0m     \u001b[38;5;241m*\u001b[39m\u001b[38;5;241m*\u001b[39mkwargs,\n\u001b[1;32m    577\u001b[0m )\n\u001b[1;32m    578\u001b[0m ds \u001b[38;5;241m=\u001b[39m _dataset_from_backend_dataset(\n\u001b[1;32m    579\u001b[0m     backend_ds,\n\u001b[1;32m    580\u001b[0m     filename_or_obj,\n\u001b[0;32m   (...)\u001b[0m\n\u001b[1;32m    590\u001b[0m     \u001b[38;5;241m*\u001b[39m\u001b[38;5;241m*\u001b[39mkwargs,\n\u001b[1;32m    591\u001b[0m )\n\u001b[1;32m    592\u001b[0m \u001b[38;5;28;01mreturn\u001b[39;00m ds\n",
      "File \u001b[0;32m~/miniconda3/lib/python3.11/site-packages/cfgrib/xarray_plugin.py:110\u001b[0m, in \u001b[0;36mCfGribBackend.open_dataset\u001b[0;34m(self, filename_or_obj, mask_and_scale, decode_times, concat_characters, decode_coords, drop_variables, use_cftime, decode_timedelta, lock, indexpath, filter_by_keys, read_keys, ignore_keys, encode_cf, squeeze, time_dims, errors, extra_coords, cache_geo_coords)\u001b[0m\n\u001b[1;32m     87\u001b[0m \u001b[38;5;28;01mdef\u001b[39;00m \u001b[38;5;21mopen_dataset\u001b[39m(\n\u001b[1;32m     88\u001b[0m     \u001b[38;5;28mself\u001b[39m,\n\u001b[1;32m     89\u001b[0m     filename_or_obj: T\u001b[38;5;241m.\u001b[39mUnion[\u001b[38;5;28mstr\u001b[39m, abc\u001b[38;5;241m.\u001b[39mMappingFieldset[T\u001b[38;5;241m.\u001b[39mAny, abc\u001b[38;5;241m.\u001b[39mField]],\n\u001b[0;32m   (...)\u001b[0m\n\u001b[1;32m    108\u001b[0m     cache_geo_coords: \u001b[38;5;28mbool\u001b[39m \u001b[38;5;241m=\u001b[39m \u001b[38;5;28;01mTrue\u001b[39;00m,\n\u001b[1;32m    109\u001b[0m ) \u001b[38;5;241m-\u001b[39m\u001b[38;5;241m>\u001b[39m xr\u001b[38;5;241m.\u001b[39mDataset:\n\u001b[0;32m--> 110\u001b[0m     store \u001b[38;5;241m=\u001b[39m CfGribDataStore(\n\u001b[1;32m    111\u001b[0m         filename_or_obj,\n\u001b[1;32m    112\u001b[0m         indexpath\u001b[38;5;241m=\u001b[39mindexpath,\n\u001b[1;32m    113\u001b[0m         filter_by_keys\u001b[38;5;241m=\u001b[39mfilter_by_keys,\n\u001b[1;32m    114\u001b[0m         read_keys\u001b[38;5;241m=\u001b[39mread_keys,\n\u001b[1;32m    115\u001b[0m         ignore_keys\u001b[38;5;241m=\u001b[39mignore_keys,\n\u001b[1;32m    116\u001b[0m         encode_cf\u001b[38;5;241m=\u001b[39mencode_cf,\n\u001b[1;32m    117\u001b[0m         squeeze\u001b[38;5;241m=\u001b[39msqueeze,\n\u001b[1;32m    118\u001b[0m         time_dims\u001b[38;5;241m=\u001b[39mtime_dims,\n\u001b[1;32m    119\u001b[0m         lock\u001b[38;5;241m=\u001b[39mlock,\n\u001b[1;32m    120\u001b[0m         errors\u001b[38;5;241m=\u001b[39merrors,\n\u001b[1;32m    121\u001b[0m         extra_coords\u001b[38;5;241m=\u001b[39mextra_coords,\n\u001b[1;32m    122\u001b[0m         cache_geo_coords\u001b[38;5;241m=\u001b[39mcache_geo_coords,\n\u001b[1;32m    123\u001b[0m     )\n\u001b[1;32m    124\u001b[0m     \u001b[38;5;28;01mwith\u001b[39;00m xr\u001b[38;5;241m.\u001b[39mcore\u001b[38;5;241m.\u001b[39mutils\u001b[38;5;241m.\u001b[39mclose_on_error(store):\n\u001b[1;32m    125\u001b[0m         \u001b[38;5;28mvars\u001b[39m, attrs \u001b[38;5;241m=\u001b[39m store\u001b[38;5;241m.\u001b[39mload()  \u001b[38;5;66;03m# type: ignore\u001b[39;00m\n",
      "File \u001b[0;32m~/miniconda3/lib/python3.11/site-packages/cfgrib/xarray_plugin.py:40\u001b[0m, in \u001b[0;36mCfGribDataStore.__init__\u001b[0;34m(self, filename, lock, **backend_kwargs)\u001b[0m\n\u001b[1;32m     38\u001b[0m \u001b[38;5;28;01melse\u001b[39;00m:\n\u001b[1;32m     39\u001b[0m     opener \u001b[38;5;241m=\u001b[39m dataset\u001b[38;5;241m.\u001b[39mopen_fieldset\n\u001b[0;32m---> 40\u001b[0m \u001b[38;5;28mself\u001b[39m\u001b[38;5;241m.\u001b[39mds \u001b[38;5;241m=\u001b[39m opener(filename, \u001b[38;5;241m*\u001b[39m\u001b[38;5;241m*\u001b[39mbackend_kwargs)\n",
      "File \u001b[0;32m~/miniconda3/lib/python3.11/site-packages/cfgrib/dataset.py:767\u001b[0m, in \u001b[0;36mopen_fieldset\u001b[0;34m(fieldset, indexpath, filter_by_keys, read_keys, ignore_keys, time_dims, extra_coords, computed_keys, log, **kwargs)\u001b[0m\n\u001b[1;32m    765\u001b[0m index_keys \u001b[38;5;241m=\u001b[39m compute_index_keys(time_dims, extra_coords, filter_by_keys)\n\u001b[1;32m    766\u001b[0m index_keys \u001b[38;5;241m=\u001b[39m [key \u001b[38;5;28;01mfor\u001b[39;00m key \u001b[38;5;129;01min\u001b[39;00m index_keys \u001b[38;5;28;01mif\u001b[39;00m key \u001b[38;5;129;01mnot\u001b[39;00m \u001b[38;5;129;01min\u001b[39;00m ignore_keys]\n\u001b[0;32m--> 767\u001b[0m index \u001b[38;5;241m=\u001b[39m messages\u001b[38;5;241m.\u001b[39mFieldsetIndex\u001b[38;5;241m.\u001b[39mfrom_fieldset(fieldset, index_keys, computed_keys)\n\u001b[1;32m    768\u001b[0m filtered_index \u001b[38;5;241m=\u001b[39m index\u001b[38;5;241m.\u001b[39msubindex(filter_by_keys)\n\u001b[1;32m    769\u001b[0m \u001b[38;5;28;01mreturn\u001b[39;00m open_from_index(filtered_index, read_keys, time_dims, extra_coords, \u001b[38;5;241m*\u001b[39m\u001b[38;5;241m*\u001b[39mkwargs)\n",
      "File \u001b[0;32m~/miniconda3/lib/python3.11/site-packages/cfgrib/messages.py:378\u001b[0m, in \u001b[0;36mFieldsetIndex.from_fieldset\u001b[0;34m(cls, fieldset, index_keys, computed_keys)\u001b[0m\n\u001b[1;32m    376\u001b[0m \u001b[38;5;28;01melse\u001b[39;00m:\n\u001b[1;32m    377\u001b[0m     iteritems \u001b[38;5;241m=\u001b[39m \u001b[38;5;28menumerate\u001b[39m(fieldset)\n\u001b[0;32m--> 378\u001b[0m \u001b[38;5;28;01mreturn\u001b[39;00m \u001b[38;5;28mcls\u001b[39m\u001b[38;5;241m.\u001b[39mfrom_fieldset_and_iteritems(fieldset, iteritems, index_keys, computed_keys)\n",
      "File \u001b[0;32m~/miniconda3/lib/python3.11/site-packages/cfgrib/messages.py:397\u001b[0m, in \u001b[0;36mFieldsetIndex.from_fieldset_and_iteritems\u001b[0;34m(cls, fieldset, iteritems, index_keys, computed_keys)\u001b[0m\n\u001b[1;32m    395\u001b[0m \u001b[38;5;28;01mtry\u001b[39;00m:\n\u001b[1;32m    396\u001b[0m     \u001b[38;5;28;01mtry\u001b[39;00m:\n\u001b[0;32m--> 397\u001b[0m         value \u001b[38;5;241m=\u001b[39m field[key]\n\u001b[1;32m    398\u001b[0m     \u001b[38;5;28;01mexcept\u001b[39;00m \u001b[38;5;167;01mKeyError\u001b[39;00m:\n\u001b[1;32m    399\u001b[0m         \u001b[38;5;66;03m# get default type if Field does not support type specifier\u001b[39;00m\n\u001b[1;32m    400\u001b[0m         \u001b[38;5;28;01mif\u001b[39;00m \u001b[38;5;124m\"\u001b[39m\u001b[38;5;124m:\u001b[39m\u001b[38;5;124m\"\u001b[39m \u001b[38;5;129;01mnot\u001b[39;00m \u001b[38;5;129;01min\u001b[39;00m key:\n",
      "File \u001b[0;32m~/miniconda3/lib/python3.11/site-packages/cfgrib/messages.py:246\u001b[0m, in \u001b[0;36mComputedKeysAdapter.__getitem__\u001b[0;34m(self, item)\u001b[0m\n\u001b[1;32m    244\u001b[0m     \u001b[38;5;28;01mreturn\u001b[39;00m getter(\u001b[38;5;28mself\u001b[39m)\n\u001b[1;32m    245\u001b[0m \u001b[38;5;28;01melse\u001b[39;00m:\n\u001b[0;32m--> 246\u001b[0m     \u001b[38;5;28;01mreturn\u001b[39;00m \u001b[38;5;28mself\u001b[39m\u001b[38;5;241m.\u001b[39mcontext[item]\n",
      "File \u001b[0;32m~/miniconda3/lib/python3.11/site-packages/earthkit/data/readers/grib/xarray.py:30\u001b[0m, in \u001b[0;36mItemWrapperForCfGrib.__getitem__\u001b[0;34m(self, n)\u001b[0m\n\u001b[1;32m     28\u001b[0m \u001b[38;5;28;01mif\u001b[39;00m n \u001b[38;5;241m==\u001b[39m \u001b[38;5;124m\"\u001b[39m\u001b[38;5;124mvalues\u001b[39m\u001b[38;5;124m\"\u001b[39m:\n\u001b[1;32m     29\u001b[0m     \u001b[38;5;28;01mreturn\u001b[39;00m \u001b[38;5;28mself\u001b[39m\u001b[38;5;241m.\u001b[39mitem\u001b[38;5;241m.\u001b[39mvalues\n\u001b[0;32m---> 30\u001b[0m \u001b[38;5;28;01mreturn\u001b[39;00m \u001b[38;5;28mself\u001b[39m\u001b[38;5;241m.\u001b[39mitem\u001b[38;5;241m.\u001b[39mmetadata(n)\n",
      "File \u001b[0;32m~/miniconda3/lib/python3.11/site-packages/earthkit/data/core/fieldlist.py:559\u001b[0m, in \u001b[0;36mField.metadata\u001b[0;34m(self, astype, *keys, **kwargs)\u001b[0m\n\u001b[1;32m    556\u001b[0m raise_on_missing \u001b[38;5;241m=\u001b[39m \u001b[38;5;124m\"\u001b[39m\u001b[38;5;124mdefault\u001b[39m\u001b[38;5;124m\"\u001b[39m \u001b[38;5;129;01mnot\u001b[39;00m \u001b[38;5;129;01min\u001b[39;00m kwargs\n\u001b[1;32m    557\u001b[0m default \u001b[38;5;241m=\u001b[39m kwargs\u001b[38;5;241m.\u001b[39mpop(\u001b[38;5;124m\"\u001b[39m\u001b[38;5;124mdefault\u001b[39m\u001b[38;5;124m\"\u001b[39m, \u001b[38;5;28;01mNone\u001b[39;00m)\n\u001b[0;32m--> 559\u001b[0m r \u001b[38;5;241m=\u001b[39m [\n\u001b[1;32m    560\u001b[0m     \u001b[38;5;28mself\u001b[39m\u001b[38;5;241m.\u001b[39m_metadata\u001b[38;5;241m.\u001b[39mget(\n\u001b[1;32m    561\u001b[0m         k,\n\u001b[1;32m    562\u001b[0m         default\u001b[38;5;241m=\u001b[39mdefault,\n\u001b[1;32m    563\u001b[0m         astype\u001b[38;5;241m=\u001b[39mkt,\n\u001b[1;32m    564\u001b[0m         raise_on_missing\u001b[38;5;241m=\u001b[39mraise_on_missing,\n\u001b[1;32m    565\u001b[0m         \u001b[38;5;241m*\u001b[39m\u001b[38;5;241m*\u001b[39mkwargs,\n\u001b[1;32m    566\u001b[0m     )\n\u001b[1;32m    567\u001b[0m     \u001b[38;5;28;01mfor\u001b[39;00m k, kt \u001b[38;5;129;01min\u001b[39;00m \u001b[38;5;28mzip\u001b[39m(key, astype)\n\u001b[1;32m    568\u001b[0m ]\n\u001b[1;32m    570\u001b[0m \u001b[38;5;28;01mif\u001b[39;00m key_arg_type \u001b[38;5;129;01mis\u001b[39;00m \u001b[38;5;28mstr\u001b[39m:\n\u001b[1;32m    571\u001b[0m     \u001b[38;5;28;01mreturn\u001b[39;00m r[\u001b[38;5;241m0\u001b[39m]\n",
      "File \u001b[0;32m~/miniconda3/lib/python3.11/site-packages/earthkit/data/core/fieldlist.py:560\u001b[0m, in \u001b[0;36m<listcomp>\u001b[0;34m(.0)\u001b[0m\n\u001b[1;32m    556\u001b[0m raise_on_missing \u001b[38;5;241m=\u001b[39m \u001b[38;5;124m\"\u001b[39m\u001b[38;5;124mdefault\u001b[39m\u001b[38;5;124m\"\u001b[39m \u001b[38;5;129;01mnot\u001b[39;00m \u001b[38;5;129;01min\u001b[39;00m kwargs\n\u001b[1;32m    557\u001b[0m default \u001b[38;5;241m=\u001b[39m kwargs\u001b[38;5;241m.\u001b[39mpop(\u001b[38;5;124m\"\u001b[39m\u001b[38;5;124mdefault\u001b[39m\u001b[38;5;124m\"\u001b[39m, \u001b[38;5;28;01mNone\u001b[39;00m)\n\u001b[1;32m    559\u001b[0m r \u001b[38;5;241m=\u001b[39m [\n\u001b[0;32m--> 560\u001b[0m     \u001b[38;5;28mself\u001b[39m\u001b[38;5;241m.\u001b[39m_metadata\u001b[38;5;241m.\u001b[39mget(\n\u001b[1;32m    561\u001b[0m         k,\n\u001b[1;32m    562\u001b[0m         default\u001b[38;5;241m=\u001b[39mdefault,\n\u001b[1;32m    563\u001b[0m         astype\u001b[38;5;241m=\u001b[39mkt,\n\u001b[1;32m    564\u001b[0m         raise_on_missing\u001b[38;5;241m=\u001b[39mraise_on_missing,\n\u001b[1;32m    565\u001b[0m         \u001b[38;5;241m*\u001b[39m\u001b[38;5;241m*\u001b[39mkwargs,\n\u001b[1;32m    566\u001b[0m     )\n\u001b[1;32m    567\u001b[0m     \u001b[38;5;28;01mfor\u001b[39;00m k, kt \u001b[38;5;129;01min\u001b[39;00m \u001b[38;5;28mzip\u001b[39m(key, astype)\n\u001b[1;32m    568\u001b[0m ]\n\u001b[1;32m    570\u001b[0m \u001b[38;5;28;01mif\u001b[39;00m key_arg_type \u001b[38;5;129;01mis\u001b[39;00m \u001b[38;5;28mstr\u001b[39m:\n\u001b[1;32m    571\u001b[0m     \u001b[38;5;28;01mreturn\u001b[39;00m r[\u001b[38;5;241m0\u001b[39m]\n",
      "File \u001b[0;32m~/miniconda3/lib/python3.11/site-packages/earthkit/data/core/metadata.py:184\u001b[0m, in \u001b[0;36mMetadata.get\u001b[0;34m(self, key, default, astype, raise_on_missing)\u001b[0m\n\u001b[1;32m    180\u001b[0m     \u001b[38;5;28;01mreturn\u001b[39;00m \u001b[38;5;28mself\u001b[39m\u001b[38;5;241m.\u001b[39m_get_custom_key(\n\u001b[1;32m    181\u001b[0m         key, default\u001b[38;5;241m=\u001b[39mdefault, astype\u001b[38;5;241m=\u001b[39mastype, raise_on_missing\u001b[38;5;241m=\u001b[39mraise_on_missing\n\u001b[1;32m    182\u001b[0m     )\n\u001b[1;32m    183\u001b[0m \u001b[38;5;28;01melse\u001b[39;00m:\n\u001b[0;32m--> 184\u001b[0m     \u001b[38;5;28;01mreturn\u001b[39;00m \u001b[38;5;28mself\u001b[39m\u001b[38;5;241m.\u001b[39m_get(key, default\u001b[38;5;241m=\u001b[39mdefault, astype\u001b[38;5;241m=\u001b[39mastype, raise_on_missing\u001b[38;5;241m=\u001b[39mraise_on_missing)\n",
      "File \u001b[0;32m~/miniconda3/lib/python3.11/site-packages/earthkit/data/readers/grib/metadata.py:355\u001b[0m, in \u001b[0;36mGribMetadata._get\u001b[0;34m(self, key, astype, default, raise_on_missing)\u001b[0m\n\u001b[1;32m    352\u001b[0m key \u001b[38;5;241m=\u001b[39m _key_name(key)\n\u001b[1;32m    354\u001b[0m \u001b[38;5;66;03m# special case when  \"shortName\" is \"~\".\u001b[39;00m\n\u001b[0;32m--> 355\u001b[0m v \u001b[38;5;241m=\u001b[39m \u001b[38;5;28mself\u001b[39m\u001b[38;5;241m.\u001b[39m_handle\u001b[38;5;241m.\u001b[39mget(key, ktype\u001b[38;5;241m=\u001b[39mastype, \u001b[38;5;241m*\u001b[39m\u001b[38;5;241m*\u001b[39m_kwargs)\n\u001b[1;32m    356\u001b[0m \u001b[38;5;28;01mif\u001b[39;00m key \u001b[38;5;241m==\u001b[39m \u001b[38;5;124m\"\u001b[39m\u001b[38;5;124mshortName\u001b[39m\u001b[38;5;124m\"\u001b[39m \u001b[38;5;129;01mand\u001b[39;00m v \u001b[38;5;241m==\u001b[39m \u001b[38;5;124m\"\u001b[39m\u001b[38;5;124m~\u001b[39m\u001b[38;5;124m\"\u001b[39m:\n\u001b[1;32m    357\u001b[0m     v \u001b[38;5;241m=\u001b[39m \u001b[38;5;28mself\u001b[39m\u001b[38;5;241m.\u001b[39m_handle\u001b[38;5;241m.\u001b[39mget(\u001b[38;5;124m\"\u001b[39m\u001b[38;5;124mparamId\u001b[39m\u001b[38;5;124m\"\u001b[39m, ktype\u001b[38;5;241m=\u001b[39m\u001b[38;5;28mstr\u001b[39m, \u001b[38;5;241m*\u001b[39m\u001b[38;5;241m*\u001b[39m_kwargs)\n",
      "File \u001b[0;32m~/miniconda3/lib/python3.11/site-packages/earthkit/data/readers/grib/codes.py:153\u001b[0m, in \u001b[0;36mGribCodesHandle.get\u001b[0;34m(self, name, ktype, **kwargs)\u001b[0m\n\u001b[1;32m    150\u001b[0m \u001b[38;5;28;01melif\u001b[39;00m name \u001b[38;5;241m==\u001b[39m \u001b[38;5;124m\"\u001b[39m\u001b[38;5;124mmd5GridSection\u001b[39m\u001b[38;5;124m\"\u001b[39m:\n\u001b[1;32m    151\u001b[0m     \u001b[38;5;28;01mreturn\u001b[39;00m \u001b[38;5;28mself\u001b[39m\u001b[38;5;241m.\u001b[39mget_md5GridSection()\n\u001b[0;32m--> 153\u001b[0m \u001b[38;5;28;01mreturn\u001b[39;00m \u001b[38;5;28msuper\u001b[39m()\u001b[38;5;241m.\u001b[39mget(name, ktype, \u001b[38;5;241m*\u001b[39m\u001b[38;5;241m*\u001b[39mkwargs)\n",
      "File \u001b[0;32m~/miniconda3/lib/python3.11/site-packages/earthkit/data/utils/message.py:215\u001b[0m, in \u001b[0;36mCodesHandle.get\u001b[0;34m(self, name, ktype, **kwargs)\u001b[0m\n\u001b[1;32m    212\u001b[0m     \u001b[38;5;28;01mreturn\u001b[39;00m \u001b[38;5;28msuper\u001b[39m()\u001b[38;5;241m.\u001b[39mget(name, ktype\u001b[38;5;241m=\u001b[39mktype, \u001b[38;5;241m*\u001b[39m\u001b[38;5;241m*\u001b[39mkwargs)\n\u001b[1;32m    213\u001b[0m \u001b[38;5;28;01melse\u001b[39;00m:\n\u001b[1;32m    214\u001b[0m     \u001b[38;5;66;03m# this will throw if name is not available\u001b[39;00m\n\u001b[0;32m--> 215\u001b[0m     \u001b[38;5;28;01mreturn\u001b[39;00m \u001b[38;5;28msuper\u001b[39m()\u001b[38;5;241m.\u001b[39m_get(name, ktype\u001b[38;5;241m=\u001b[39mktype)\n",
      "File \u001b[0;32m~/miniconda3/lib/python3.11/site-packages/eccodes/highlevel/message.py:46\u001b[0m, in \u001b[0;36mMessage._get\u001b[0;34m(self, name, ktype)\u001b[0m\n\u001b[1;32m     44\u001b[0m     \u001b[38;5;28;01mexcept\u001b[39;00m \u001b[38;5;167;01mKeyError\u001b[39;00m:\n\u001b[1;32m     45\u001b[0m         \u001b[38;5;28;01mraise\u001b[39;00m \u001b[38;5;167;01mValueError\u001b[39;00m(\u001b[38;5;124mf\u001b[39m\u001b[38;5;124m\"\u001b[39m\u001b[38;5;124mUnknown key type \u001b[39m\u001b[38;5;132;01m{\u001b[39;00mstype\u001b[38;5;132;01m!r}\u001b[39;00m\u001b[38;5;124m\"\u001b[39m)\n\u001b[0;32m---> 46\u001b[0m \u001b[38;5;28;01mwith\u001b[39;00m raise_keyerror(name):\n\u001b[1;32m     47\u001b[0m     \u001b[38;5;28;01mif\u001b[39;00m eccodes\u001b[38;5;241m.\u001b[39mcodes_is_missing(\u001b[38;5;28mself\u001b[39m\u001b[38;5;241m.\u001b[39m_handle, name):\n\u001b[1;32m     48\u001b[0m         \u001b[38;5;28;01mraise\u001b[39;00m \u001b[38;5;167;01mKeyError\u001b[39;00m(name)\n",
      "File \u001b[0;32m~/miniconda3/lib/python3.11/contextlib.py:137\u001b[0m, in \u001b[0;36m_GeneratorContextManager.__enter__\u001b[0;34m(self)\u001b[0m\n\u001b[1;32m    135\u001b[0m \u001b[38;5;28;01mdel\u001b[39;00m \u001b[38;5;28mself\u001b[39m\u001b[38;5;241m.\u001b[39margs, \u001b[38;5;28mself\u001b[39m\u001b[38;5;241m.\u001b[39mkwds, \u001b[38;5;28mself\u001b[39m\u001b[38;5;241m.\u001b[39mfunc\n\u001b[1;32m    136\u001b[0m \u001b[38;5;28;01mtry\u001b[39;00m:\n\u001b[0;32m--> 137\u001b[0m     \u001b[38;5;28;01mreturn\u001b[39;00m \u001b[38;5;28mnext\u001b[39m(\u001b[38;5;28mself\u001b[39m\u001b[38;5;241m.\u001b[39mgen)\n\u001b[1;32m    138\u001b[0m \u001b[38;5;28;01mexcept\u001b[39;00m \u001b[38;5;167;01mStopIteration\u001b[39;00m:\n\u001b[1;32m    139\u001b[0m     \u001b[38;5;28;01mraise\u001b[39;00m \u001b[38;5;167;01mRuntimeError\u001b[39;00m(\u001b[38;5;124m\"\u001b[39m\u001b[38;5;124mgenerator didn\u001b[39m\u001b[38;5;124m'\u001b[39m\u001b[38;5;124mt yield\u001b[39m\u001b[38;5;124m\"\u001b[39m) \u001b[38;5;28;01mfrom\u001b[39;00m \u001b[38;5;28;01mNone\u001b[39;00m\n",
      "File \u001b[0;32m~/miniconda3/lib/python3.11/site-packages/eccodes/highlevel/message.py:13\u001b[0m, in \u001b[0;36mraise_keyerror\u001b[0;34m(name)\u001b[0m\n\u001b[1;32m      4\u001b[0m \u001b[38;5;28;01mimport\u001b[39;00m \u001b[38;5;21;01meccodes\u001b[39;00m\n\u001b[1;32m      6\u001b[0m _TYPES_MAP \u001b[38;5;241m=\u001b[39m {\n\u001b[1;32m      7\u001b[0m     \u001b[38;5;124m\"\u001b[39m\u001b[38;5;124mfloat\u001b[39m\u001b[38;5;124m\"\u001b[39m: \u001b[38;5;28mfloat\u001b[39m,\n\u001b[1;32m      8\u001b[0m     \u001b[38;5;124m\"\u001b[39m\u001b[38;5;124mint\u001b[39m\u001b[38;5;124m\"\u001b[39m: \u001b[38;5;28mint\u001b[39m,\n\u001b[1;32m      9\u001b[0m     \u001b[38;5;124m\"\u001b[39m\u001b[38;5;124mstr\u001b[39m\u001b[38;5;124m\"\u001b[39m: \u001b[38;5;28mstr\u001b[39m,\n\u001b[1;32m     10\u001b[0m }\n\u001b[0;32m---> 13\u001b[0m \u001b[38;5;129m@contextmanager\u001b[39m\n\u001b[1;32m     14\u001b[0m \u001b[38;5;28;01mdef\u001b[39;00m \u001b[38;5;21mraise_keyerror\u001b[39m(name):\n\u001b[1;32m     15\u001b[0m \u001b[38;5;250m    \u001b[39m\u001b[38;5;124;03m\"\"\"Make operations on a key raise a KeyError if not found\"\"\"\u001b[39;00m\n\u001b[1;32m     16\u001b[0m     \u001b[38;5;28;01mtry\u001b[39;00m:\n",
      "\u001b[0;31mKeyboardInterrupt\u001b[0m: "
     ]
    }
   ],
   "source": [
    "# Get all the coordinates latitude/longitude in the ds.to_xarray()\n",
    "latitudes = ds.to_xarray().latitude.values\n",
    "longitudes = ds.to_xarray().longitude.values\n",
    "\n",
    "\n",
    "import os\n",
    "import pystac\n",
    "from datetime import datetime, timezone\n",
    "import numpy as np\n",
    "\n",
    "import os\n",
    "import pystac\n",
    "from datetime import datetime, timezone\n",
    "import numpy as np\n",
    "\n",
    "# Itera su latitudine e longitudine\n",
    "for lat in latitudes:\n",
    "    for lon in longitudes:\n",
    "\n",
    "        tmp_path = os.path.join(tmp_dir.name, f'example_{lat}_{lon}.zarr')\n",
    "        # Rechunck and store data\n",
    "        ds.to_xarray().sel(latitude=lat, longitude=lon, method='nearest').chunk(chunks={'time': -1}).to_zarr(tmp_path)\n",
    "\n",
    "        # Converte lat e lon in float per garantire la serializzazione JSON\n",
    "        lat = float(lat)\n",
    "        lon = float(lon)\n",
    "\n",
    "        \n",
    "\n",
    "        # Crea un nuovo item STAC\n",
    "        item = pystac.Item(\n",
    "            id=f'era5-prova-{lat}-{lon}',  # Usa lat e lon nel nome per un ID univoco\n",
    "            geometry={\n",
    "                \"type\": \"Point\",\n",
    "                \"coordinates\": [lon, lat]  # Assicurati che siano float\n",
    "            },\n",
    "            bbox=[float(lon), float(lat), float(lon), float(lat)],  # Converti anche il bbox\n",
    "            datetime=datetime.now(timezone.utc),\n",
    "            properties={}\n",
    "        )\n",
    "        \n",
    "        # Aggiunge l'asset e tutte le informazioni all'item\n",
    "        item.add_asset(\n",
    "            key='data',\n",
    "            asset=pystac.Asset(\n",
    "                href=tmp_path,\n",
    "                media_type=\"application/vnd+zarr\",\n",
    "                roles=[\"data\"]\n",
    "            )\n",
    "        )\n",
    "\n",
    "        # Aggiunge l'item alla collection\n",
    "        collection.add_item(item)\n",
    "\n",
    "# Aggiunge la collection al catalogo\n",
    "catalog.add_child(collection)\n",
    "\n",
    "# Salva il catalogo STAC in locale\n",
    "catalog.normalize_and_save(\"era5_zarr_catalog\", catalog_type=pystac.CatalogType.SELF_CONTAINED)"
   ]
  },
  {
   "cell_type": "code",
   "execution_count": 7,
   "metadata": {},
   "outputs": [],
   "source": [
    "catalog = pystac.Catalog.from_file('era5_zarr_catalog/catalog.json')"
   ]
  },
  {
   "cell_type": "code",
   "execution_count": null,
   "metadata": {},
   "outputs": [],
   "source": [
    "from rtree import index\n",
    "from shapely.geometry import shape, Point\n",
    "from shapely.ops import nearest_points\n",
    "\n",
    "# Crea un indice spaziale\n",
    "spatial_index = index.Index()\n",
    "\n",
    "# Popola l'indice con gli item del catalogo\n",
    "item_map = {}\n",
    "for idx, item in enumerate(catalog.get_all_items()):\n",
    "    if item.geometry:\n",
    "        item_geometry = shape(item.geometry)\n",
    "        spatial_index.insert(idx, item_geometry.bounds)\n",
    "        item_map[idx] = item\n",
    "\n",
    "# Definisci il punto griglia\n",
    "latitude = 42\n",
    "longitude = 9\n",
    "point_of_interest = Point(longitude, latitude)\n",
    "\n",
    "# Cerca gli item che intersecano il punto\n",
    "matching_indices = list(spatial_index.intersection((longitude, latitude, longitude, latitude)))\n",
    "\n",
    "# Se non troviamo nessun item corrispondente, cerchiamo il più vicino\n",
    "if matching_indices:\n",
    "    # Otteniamo gli item corrispondenti\n",
    "    matching_items = [item_map[idx] for idx in matching_indices]\n",
    "else:\n",
    "    # Se non ci sono corrispondenze esatte, calcoliamo l'item più vicino\n",
    "    min_distance = float('inf')\n",
    "    closest_item = None\n",
    "\n",
    "    # Iteriamo su tutti gli item per trovare quello più vicino\n",
    "    for idx, item in item_map.items():\n",
    "        item_geometry = shape(item.geometry)\n",
    "        # Trova i punti più vicini tra il punto griglia e l'item corrente\n",
    "        nearest = nearest_points(item_geometry, point_of_interest)\n",
    "        distance = point_of_interest.distance(nearest[0])\n",
    "\n",
    "        # Aggiorna l'item più vicino\n",
    "        if distance < min_distance:\n",
    "            min_distance = distance\n",
    "            closest_item = item\n",
    "\n",
    "    # Aggiungi l'item più vicino alla lista dei matching items\n",
    "    matching_items = [closest_item]\n",
    "\n",
    "# Visualizza l'Item trovato (o il più vicino)\n",
    "for item in matching_items:\n",
    "    print(item)\n",
    "    print(f\"Coordinates: {item.geometry['coordinates']}\")\n",
    "    print(f\"Item ID: {item.id}\")\n",
    "    print(f\"Assets: {item.assets}\")\n"
   ]
  },
  {
   "cell_type": "code",
   "execution_count": null,
   "metadata": {},
   "outputs": [],
   "source": [
    "import xarray as xr\n",
    "# Ottieni il link all'asset Zarr dall'item\n",
    "zarr_asset_href = item.assets['data'].href  # Assumiamo che l'asset si chiami 'data'\n",
    "\n",
    "# Carica i dati in xarray\n",
    "ds = xr.open_zarr(zarr_asset_href)\n",
    "\n",
    "# Visualizza le informazioni del dataset\n",
    "ds.mean(['number','step','surface']).t2m.plot()"
   ]
  },
  {
   "cell_type": "code",
   "execution_count": 11,
   "metadata": {},
   "outputs": [],
   "source": [
    "tmp_dir.cleanup()"
   ]
  }
 ],
 "metadata": {
  "kernelspec": {
   "display_name": "climai",
   "language": "python",
   "name": "python3"
  },
  "language_info": {
   "codemirror_mode": {
    "name": "ipython",
    "version": 3
   },
   "file_extension": ".py",
   "mimetype": "text/x-python",
   "name": "python",
   "nbconvert_exporter": "python",
   "pygments_lexer": "ipython3",
   "version": "3.11.8"
  }
 },
 "nbformat": 4,
 "nbformat_minor": 2
}
